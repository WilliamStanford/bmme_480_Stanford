{
 "cells": [
  {
   "cell_type": "markdown",
   "metadata": {
    "slideshow": {
     "slide_type": "slide"
    }
   },
   "source": [
    "# Homeworks\n",
    "\n",
    "* For the following interpretations of Matrix-vector and Matrix-Matrix product write the corresponding python code using for loops, as exemplified during the lecture.\n",
    "* You need to complete the example partial codes provided below\n",
    "* Two relevant examples from class follow\n"
   ]
  },
  {
   "cell_type": "markdown",
   "metadata": {
    "slideshow": {
     "slide_type": "subslide"
    }
   },
   "source": [
    "### Example matrix-vector products\n",
    "![](assets/Lecture_5_text-7f3aa5f7.png)\n",
    "![](assets/Lecture_5_text-95ec9688.png)\n",
    "![](assets/Lecture_5_text-cf1e838d.png)"
   ]
  },
  {
   "cell_type": "code",
   "execution_count": 1,
   "metadata": {
    "slideshow": {
     "slide_type": "subslide"
    }
   },
   "outputs": [
    {
     "name": "stdout",
     "output_type": "stream",
     "text": [
      "True\n"
     ]
    }
   ],
   "source": [
    "import numpy as np\n",
    "# example writing A by rows\n",
    "A = np.random.random((3,4))\n",
    "x = np.random.random((4,))\n",
    "y = np.zeros( A.shape[0])\n",
    "\n",
    "for n in range(A.shape[0]):\n",
    "        y[n] = A[n,:]@x\n",
    "            \n",
    "print(np.allclose(y,A@x)) # check if vectors are the same          "
   ]
  },
  {
   "cell_type": "code",
   "execution_count": 3,
   "metadata": {
    "slideshow": {
     "slide_type": "-"
    }
   },
   "outputs": [
    {
     "name": "stdout",
     "output_type": "stream",
     "text": [
      "True\n"
     ]
    }
   ],
   "source": [
    "# example writing A by columns\n",
    "y = np.zeros( A.shape[0])\n",
    "\n",
    "for n in range(A.shape[1]):\n",
    "        y += A[:,n]*x[n]\n",
    "            \n",
    "print(np.allclose(y,A@x))  # check if vectors are the same          "
   ]
  },
  {
   "cell_type": "markdown",
   "metadata": {
    "slideshow": {
     "slide_type": "slide"
    }
   },
   "source": [
    "### Exercise 1:  vector-matrix product, with matrix interpreted as column vectors  (2 pts)"
   ]
  },
  {
   "cell_type": "markdown",
   "metadata": {
    "slideshow": {
     "slide_type": "slide"
    }
   },
   "source": [
    "![](assets/Lecture_5_text-fd5b6364.png)"
   ]
  },
  {
   "cell_type": "code",
   "execution_count": 4,
   "metadata": {},
   "outputs": [
    {
     "name": "stdout",
     "output_type": "stream",
     "text": [
      "True\n"
     ]
    }
   ],
   "source": [
    "import numpy as np\n",
    "# example writing A by columns\n",
    "x = np.random.random((3,1))\n",
    "A = np.random.random((3,4))\n",
    "y = np.zeros((x.T.shape[0], A.shape[1]))\n",
    "\n",
    "# ADD YOUR CODE HERE \n",
    "\n",
    "for i in range(A.shape[1]):\n",
    "    #y[0,i] += x.T@A[:,i]\n",
    "    y[0,i] += np.inner(x.T,A[:,i])\n",
    "\n",
    "print(np.allclose(y,x.T@A))\n"
   ]
  },
  {
   "cell_type": "markdown",
   "metadata": {
    "slideshow": {
     "slide_type": "slide"
    }
   },
   "source": [
    "### Exercise 2:  vector-matrix product, with matrix interpreted as row vectors  (2 pts)"
   ]
  },
  {
   "cell_type": "markdown",
   "metadata": {
    "slideshow": {
     "slide_type": "slide"
    }
   },
   "source": [
    "![](assets/Lecture_5_text-3da1ef5b.png)"
   ]
  },
  {
   "cell_type": "code",
   "execution_count": 5,
   "metadata": {
    "slideshow": {
     "slide_type": "slide"
    }
   },
   "outputs": [
    {
     "name": "stdout",
     "output_type": "stream",
     "text": [
      "True\n"
     ]
    }
   ],
   "source": [
    "import numpy as np\n",
    "# example writing A by rows\n",
    "x = np.random.random((3,1))\n",
    "A = np.random.random((3,4))\n",
    "y = np.zeros((x.T.shape[0], A.shape[1]))\n",
    "\n",
    "# ADD YOUR CODE HERE  \n",
    "\n",
    "for i in range(A.shape[0]):\n",
    "    y += x.T[0,i]*A[i,:]\n",
    "\n",
    "print(np.allclose(y,x.T@A)) # check if vectors are the same          "
   ]
  },
  {
   "cell_type": "markdown",
   "metadata": {},
   "source": [
    "### Exercise 3:  matrix-matrix product, with two matrices interpreted as row and column vectors  (2 pts)"
   ]
  },
  {
   "cell_type": "markdown",
   "metadata": {
    "slideshow": {
     "slide_type": "slide"
    }
   },
   "source": [
    "# matrix-matrix products\n",
    "\n",
    "we will look at the different ways to interpret the product C = AB, generalizing what seen above\n",
    "\n",
    "* A rows, B columns\n",
    "![](assets/Lecture_5_text-291584e5.png)"
   ]
  },
  {
   "cell_type": "code",
   "execution_count": 6,
   "metadata": {},
   "outputs": [
    {
     "name": "stdout",
     "output_type": "stream",
     "text": [
      "True\n"
     ]
    }
   ],
   "source": [
    "import numpy as np\n",
    "# example writing A by rows\n",
    "A = np.random.random((3,4))\n",
    "B = np.random.random((4,5))\n",
    "C = np.zeros((A.shape[0], B.shape[1]))\n",
    "row, col = C.shape\n",
    "\n",
    "## ADD YOUR CODE HERE\n",
    "    \n",
    "for i in range(row):\n",
    "  for j in range(col):\n",
    "    C[i,j] =  A[i,:]@B[:,j]   \n",
    "       \n",
    "print(np.allclose(C,A@B)) # check if vectors are the same          "
   ]
  },
  {
   "cell_type": "markdown",
   "metadata": {
    "slideshow": {
     "slide_type": "slide"
    }
   },
   "source": [
    "### Exercise 4:  matrix-matrix product, with two matrices interpreted as column and row vectors  (2 pts)"
   ]
  },
  {
   "cell_type": "markdown",
   "metadata": {
    "slideshow": {
     "slide_type": "subslide"
    }
   },
   "source": [
    "* A columns, B rows\n",
    "![](assets/Lecture_5_text-4da76187.png)\n",
    "AB is equal to the sum, over all i, of the outer product of the i-th column of A and the i-th row of B. Difficult expression."
   ]
  },
  {
   "cell_type": "code",
   "execution_count": 7,
   "metadata": {},
   "outputs": [
    {
     "name": "stdout",
     "output_type": "stream",
     "text": [
      "True\n"
     ]
    }
   ],
   "source": [
    "import numpy as np\n",
    "# example writing A by rows\n",
    "A = np.random.random((3,4))\n",
    "B = np.random.random((4,5))\n",
    "C = np.zeros((A.shape[0], B.shape[1]))\n",
    "\n",
    "\n",
    "## ADD YOUR CODE HERE (beware this is tricky but highly educative!)\n",
    "for i in range(A.shape[1]):\n",
    "    C += np.outer(A[:,i],B[i,:])\n",
    "\n",
    "print(np.allclose(C,A@B)) # check if vectors are the same          "
   ]
  },
  {
   "cell_type": "markdown",
   "metadata": {},
   "source": [
    "### Exercise 5:  trace of a matrix  (1 pt)\n",
    "\n",
    "*  implement the trace operation using one for loop\n",
    "*  probe using python code the properties of traces"
   ]
  },
  {
   "cell_type": "markdown",
   "metadata": {
    "slideshow": {
     "slide_type": "subslide"
    }
   },
   "source": [
    "### trace of a matrix\n",
    "![](assets/Lecture_5_text-1d8e4959.png)"
   ]
  },
  {
   "cell_type": "code",
   "execution_count": 8,
   "metadata": {},
   "outputs": [
    {
     "name": "stdout",
     "output_type": "stream",
     "text": [
      "True\n"
     ]
    }
   ],
   "source": [
    "import numpy as np\n",
    "#implement the trace operation using one for loop\n",
    "A = np.random.random((3,3))\n",
    "\n",
    "### add your code here\n",
    "trc = 0\n",
    "if A.shape[0] == A.shape[1]:\n",
    "    NumOfDiagElements = A.shape[0]\n",
    "\n",
    "for i in range(NumOfDiagElements):\n",
    "    trc += A[i,i]\n",
    "\n",
    "print(np.allclose(trc,np.trace(A))) # check if vectors are the same          "
   ]
  },
  {
   "cell_type": "markdown",
   "metadata": {
    "slideshow": {
     "slide_type": "subslide"
    }
   },
   "source": [
    "### Properties of trace\n",
    "![](assets/Lecture_5_text-13f536da.png)"
   ]
  },
  {
   "cell_type": "code",
   "execution_count": 9,
   "metadata": {},
   "outputs": [
    {
     "name": "stdout",
     "output_type": "stream",
     "text": [
      "True\n",
      "True\n",
      "12.616397878270995\n",
      "12.616397878270998\n",
      "True\n",
      "3.299513270857709\n",
      "3.299513270857709\n",
      "True\n",
      "5.448219127903865\n",
      "5.448219127903865\n",
      "5.448219127903865\n",
      "True\n"
     ]
    }
   ],
   "source": [
    "# probe using python code the properties of traces\n",
    "# Example property one\n",
    "A = np.random.random((3,3))\n",
    "print(np.allclose(np.trace(A),np.trace(A.T)))\n",
    "\n",
    "# Example property two\n",
    "B = np.random.random((3,3))\n",
    "print(np.allclose(np.trace(A+B),np.trace(A) + np.trace(B)))\n",
    "\n",
    "\n",
    "## add here your code for property 3\n",
    "A = np.random.random((3,3))\n",
    "t = 5\n",
    "\n",
    "# trc(tA)\n",
    "tA = t*A\n",
    "trc_tA = 0\n",
    "for i in range(tA.shape[0]):\n",
    "    trc_tA += trc_tA + tA[i,i]\n",
    "print(trc_tA)\n",
    "\n",
    "# t_trc(A)\n",
    "trc = 0\n",
    "for i in range(A.shape[0]):\n",
    "    trc += trc + A[i,i]\n",
    "t_trcA = t*trc\n",
    "print(t_trcA)\n",
    "\n",
    "print(np.allclose(np.trace(t*A),t*np.trace(A)))\n",
    "\n",
    "\n",
    "\n",
    "## add here your code for property 4\n",
    "A = np.random.random((3,4))\n",
    "B = np.random.random((4,3))\n",
    "\n",
    "AB = A@B\n",
    "trcAB = 0\n",
    "for i in range(AB.shape[0]):\n",
    "    trcAB = trcAB + AB[i,i]\n",
    "print(trcAB)\n",
    "\n",
    "BA = B@A\n",
    "trcBA = 0\n",
    "for i in range(BA.shape[0]):\n",
    "    trcBA = trcBA + BA[i,i]\n",
    "print(trcBA)\n",
    "\n",
    "print(np.allclose(np.trace(B@A),np.trace(A@B)))\n",
    "\n",
    "\n",
    "\n",
    "## add here your code for property 5\n",
    "A = np.random.random((3,3))\n",
    "B = np.random.random((3,4))\n",
    "C = np.random.random((4,3))\n",
    "\n",
    "ABC = A@B@C\n",
    "trcABC = 0\n",
    "for i in range(ABC.shape[0]):\n",
    "    trcABC = trcABC + ABC[i,i]\n",
    "print(trcABC)\n",
    "\n",
    "BCA = B@C@A\n",
    "trcBCA = 0\n",
    "for i in range(BCA.shape[0]):\n",
    "    trcBCA = trcBCA + BCA[i,i]\n",
    "print(trcBCA)\n",
    "\n",
    "CAB = C@A@B\n",
    "trcCAB = 0\n",
    "for i in range(CAB.shape[0]):\n",
    "    trcCAB = trcCAB + CAB[i,i]\n",
    "print(trcCAB)\n",
    "\n",
    "print(np.allclose(np.trace(B@C@A),np.trace(A@B@C), np.trace(C@A@B)))"
   ]
  },
  {
   "cell_type": "markdown",
   "metadata": {},
   "source": [
    "### Exercise 6:  Matrix-matrix multiplication with second matrix interpreted as column  (2 pts)"
   ]
  },
  {
   "cell_type": "markdown",
   "metadata": {
    "slideshow": {
     "slide_type": "subslide"
    }
   },
   "source": [
    "Set of matrix-vector products\n",
    "![](assets/Lecture_5_text-1a3dac83.png)\""
   ]
  },
  {
   "cell_type": "code",
   "execution_count": 10,
   "metadata": {},
   "outputs": [
    {
     "name": "stdout",
     "output_type": "stream",
     "text": [
      "[[1.96249086 0.         0.         0.         0.        ]\n",
      " [1.63365472 0.         0.         0.         0.        ]\n",
      " [2.04272142 0.         0.         0.         0.        ]]\n",
      "[[1.96249086 1.14857256 0.         0.         0.        ]\n",
      " [1.63365472 0.80672052 0.         0.         0.        ]\n",
      " [2.04272142 1.3122281  0.         0.         0.        ]]\n",
      "[[1.96249086 1.14857256 1.21342386 0.         0.        ]\n",
      " [1.63365472 0.80672052 1.22356448 0.         0.        ]\n",
      " [2.04272142 1.3122281  1.75675992 0.         0.        ]]\n",
      "[[1.96249086 1.14857256 1.21342386 0.96880221 0.        ]\n",
      " [1.63365472 0.80672052 1.22356448 1.24351124 0.        ]\n",
      " [2.04272142 1.3122281  1.75675992 0.99765671 0.        ]]\n",
      "[[1.96249086 1.14857256 1.21342386 0.96880221 0.91177006]\n",
      " [1.63365472 0.80672052 1.22356448 1.24351124 0.76253209]\n",
      " [2.04272142 1.3122281  1.75675992 0.99765671 1.00472114]]\n",
      "True\n"
     ]
    }
   ],
   "source": [
    "A = np.random.random((3,4))\n",
    "B = np.random.random((4,5))\n",
    "rows, cols = A.shape[0], B.shape[1]\n",
    "C = np.zeros((rows, cols))\n",
    "\n",
    "## ADD YOUR CODE HERE\n",
    "for i in range(cols):\n",
    "    C[:,i] = A[:,:]@B[:,i]\n",
    "    print(C)\n",
    "            \n",
    "print(np.allclose(C,A@B))     "
   ]
  },
  {
   "cell_type": "markdown",
   "metadata": {},
   "source": [
    "### Exercise 7:  Matrix-matrix multiplication with first matrix interpreted as rows  (2 pts)"
   ]
  },
  {
   "cell_type": "markdown",
   "metadata": {
    "slideshow": {
     "slide_type": "subslide"
    }
   },
   "source": [
    "![](assets/Lecture_5_text-5c8cebb4.png)"
   ]
  },
  {
   "cell_type": "code",
   "execution_count": 11,
   "metadata": {},
   "outputs": [
    {
     "name": "stdout",
     "output_type": "stream",
     "text": [
      "[[0.97575109 1.21770171 0.67108146 0.99431815 0.69129516]\n",
      " [0.         0.         0.         0.         0.        ]\n",
      " [0.         0.         0.         0.         0.        ]]\n",
      "[[0.97575109 1.21770171 0.67108146 0.99431815 0.69129516]\n",
      " [0.8487531  1.06707729 0.37756073 0.98547635 0.8053822 ]\n",
      " [0.         0.         0.         0.         0.        ]]\n",
      "[[0.97575109 1.21770171 0.67108146 0.99431815 0.69129516]\n",
      " [0.8487531  1.06707729 0.37756073 0.98547635 0.8053822 ]\n",
      " [1.40059453 2.36662722 1.35817767 1.66963355 1.21694504]]\n",
      "True\n"
     ]
    }
   ],
   "source": [
    "A = np.random.random((3,4))\n",
    "B = np.random.random((4,5))\n",
    "rows, cols = A.shape[0], B.shape[1]\n",
    "C = np.zeros((rows, cols))\n",
    "\n",
    "## ADD YOUR CODE HERE\n",
    "\n",
    "for i in range(rows):\n",
    "    C[i,:] = A[i,:]@B[:,:]\n",
    "    print(C)\n",
    "            \n",
    "print(np.allclose(C,A@B))     "
   ]
  }
 ],
 "metadata": {
  "celltoolbar": "Slideshow",
  "kernelspec": {
   "display_name": "Python 3",
   "language": "python",
   "name": "python3"
  },
  "language_info": {
   "codemirror_mode": {
    "name": "ipython",
    "version": 3
   },
   "file_extension": ".py",
   "mimetype": "text/x-python",
   "name": "python",
   "nbconvert_exporter": "python",
   "pygments_lexer": "ipython3",
   "version": "3.7.3"
  },
  "rise": {
   "backimage": "mybackimage.png"
  }
 },
 "nbformat": 4,
 "nbformat_minor": 2
}
